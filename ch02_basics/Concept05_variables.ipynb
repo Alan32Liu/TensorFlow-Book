{
 "cells": [
  {
   "cell_type": "markdown",
   "metadata": {
    "deletable": true,
    "editable": true
   },
   "source": [
    "# Ch `02`: Concept `05`\n",
    "# 第 `02` 章: 概念 `05`  "
   ]
  },
  {
   "cell_type": "markdown",
   "metadata": {
    "deletable": true,
    "editable": true
   },
   "source": [
    "## Using variables\n",
    "## 使用变量"
   ]
  },
  {
   "cell_type": "markdown",
   "metadata": {
    "deletable": true,
    "editable": true
   },
   "source": [
    "Here we go, here we go, here we go! Moving on from those simple examples, let's get a better understanding of variables. Start with a session:\n",
    "\n",
    "开始了，开始了，开始啦！在那些简单的例子之后，让我们来学习一下变量。先创建一个会话："
   ]
  },
  {
   "cell_type": "code",
   "execution_count": 1,
   "metadata": {
    "collapsed": false,
    "deletable": true,
    "editable": true
   },
   "outputs": [],
   "source": [
    "import tensorflow as tf\n",
    "sess = tf.InteractiveSession()"
   ]
  },
  {
   "cell_type": "markdown",
   "metadata": {
    "deletable": true,
    "editable": true
   },
   "source": [
    "Below is a series of numbers. Don't worry what they mean. Just for fun, let's think of them as neural activations.\n",
    "\n",
    "下面是一系列数字。不用担心它们代表了什么。我们就假装它们是神经激励值吧。"
   ]
  },
  {
   "cell_type": "code",
   "execution_count": 2,
   "metadata": {
    "collapsed": true,
    "deletable": true,
    "editable": true
   },
   "outputs": [],
   "source": [
    "raw_data = [1., 2., 8., -1., 0., 5.5, 6., 13]"
   ]
  },
  {
   "cell_type": "markdown",
   "metadata": {
    "collapsed": true,
    "deletable": true,
    "editable": true
   },
   "source": [
    "Create a boolean variable called `spike` to detect a sudden increase in the values.\n",
    "\n",
    "创建一个布尔变量 `spike` 来侦测它是否突然增加。\n",
    "\n",
    "All variables must be initialized. Go ahead and initialize the variable by calling `run()` on its `initializer`:\n",
    "\n",
    "我们必须被初始化所有的变量。快试着用 `run()` 来初始化它的 `initializer`："
   ]
  },
  {
   "cell_type": "code",
   "execution_count": 3,
   "metadata": {
    "collapsed": false,
    "deletable": true,
    "editable": true
   },
   "outputs": [],
   "source": [
    "spike = tf.Variable(False)\n",
    "spike.initializer.run()"
   ]
  },
  {
   "cell_type": "markdown",
   "metadata": {
    "deletable": true,
    "editable": true
   },
   "source": [
    "Loop through the data and update the spike variable when there is a significant increase:\n",
    "\n",
    "让我们用遍历每个数据，如果有大幅提升的话，就更新一下 `spike`："
   ]
  },
  {
   "cell_type": "code",
   "execution_count": 4,
   "metadata": {
    "collapsed": false,
    "deletable": true,
    "editable": true
   },
   "outputs": [
    {
     "name": "stdout",
     "output_type": "stream",
     "text": [
      "Spike False\n",
      "Spike True\n",
      "Spike False\n",
      "Spike False\n",
      "Spike True\n",
      "Spike False\n",
      "Spike True\n"
     ]
    }
   ],
   "source": [
    "for i in range(1, len(raw_data)):\n",
    "    if raw_data[i] - raw_data[i-1] > 5:\n",
    "        updater = tf.assign(spike, tf.constant(True))\n",
    "        updater.eval()\n",
    "    else:\n",
    "        tf.assign(spike, False).eval()\n",
    "    print(\"Spike\", spike.eval())"
   ]
  },
  {
   "cell_type": "markdown",
   "metadata": {
    "deletable": true,
    "editable": true
   },
   "source": [
    "You forgot to close the session! Here, let me do it:\n",
    "\n",
    "我猜你一定忘记关闭会话啦！来，我帮你："
   ]
  },
  {
   "cell_type": "code",
   "execution_count": 5,
   "metadata": {
    "collapsed": true,
    "deletable": true,
    "editable": true
   },
   "outputs": [],
   "source": [
    "sess.close()"
   ]
  }
 ],
 "metadata": {
  "kernelspec": {
   "display_name": "Python 3",
   "language": "python",
   "name": "python3"
  },
  "language_info": {
   "codemirror_mode": {
    "name": "ipython",
    "version": 3
   },
   "file_extension": ".py",
   "mimetype": "text/x-python",
   "name": "python",
   "nbconvert_exporter": "python",
   "pygments_lexer": "ipython3",
   "version": "3.5.2"
  }
 },
 "nbformat": 4,
 "nbformat_minor": 0
}
